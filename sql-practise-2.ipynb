{
 "cells": [
  {
   "cell_type": "code",
   "execution_count": 1,
   "id": "5e66c25a",
   "metadata": {
    "execution": {
     "iopub.execute_input": "2023-12-29T16:21:48.769258Z",
     "iopub.status.busy": "2023-12-29T16:21:48.768625Z",
     "iopub.status.idle": "2023-12-29T16:21:49.088265Z",
     "shell.execute_reply": "2023-12-29T16:21:49.087191Z"
    },
    "papermill": {
     "duration": 0.327362,
     "end_time": "2023-12-29T16:21:49.090589",
     "exception": false,
     "start_time": "2023-12-29T16:21:48.763227",
     "status": "completed"
    },
    "tags": []
   },
   "outputs": [],
   "source": [
    "# Imports\n",
    "import sqlite3 as sq3\n",
    "import pandas.io.sql as pds\n",
    "import pandas as pd"
   ]
  },
  {
   "cell_type": "markdown",
   "id": "fdcbe5f1",
   "metadata": {
    "papermill": {
     "duration": 0.001964,
     "end_time": "2023-12-29T16:21:49.095002",
     "exception": false,
     "start_time": "2023-12-29T16:21:49.093038",
     "status": "completed"
    },
    "tags": []
   },
   "source": [
    "## Lab Exercise: Reading in database files\n",
    "\n",
    " - Create a variable, `path`, containing the path to the `baseball.db` contained in `resources/`\n",
    " - Create a connection, `con`, that is connected to database at `path`\n",
    " - Create a variable, `query`, containing a SQL query which reads in all data from the `allstarfull` table\n",
    " - Create a variable, `observations`, by using pandas' [read_sql](https://pandas.pydata.org/pandas-docs/stable/reference/api/pandas.read_sql.html)\n",
    "\n",
    "### Optional\n",
    " - Create a variable, `tables`, which reads in all data from the table `sqlite_master`\n",
    " - Pretend that you were interesting in creating a new baseball hall of fame. Join and analyze the tables to evaluate the top 3 all time best baseball players."
   ]
  },
  {
   "cell_type": "markdown",
   "id": "77c39032",
   "metadata": {
    "papermill": {
     "duration": 0.001771,
     "end_time": "2023-12-29T16:21:49.098791",
     "exception": false,
     "start_time": "2023-12-29T16:21:49.097020",
     "status": "completed"
    },
    "tags": []
   },
   "source": [
    "Download the database... "
   ]
  },
  {
   "cell_type": "code",
   "execution_count": 2,
   "id": "75a33552",
   "metadata": {
    "execution": {
     "iopub.execute_input": "2023-12-29T16:21:49.104788Z",
     "iopub.status.busy": "2023-12-29T16:21:49.104115Z",
     "iopub.status.idle": "2023-12-29T16:22:06.480729Z",
     "shell.execute_reply": "2023-12-29T16:22:06.479156Z"
    },
    "papermill": {
     "duration": 17.382552,
     "end_time": "2023-12-29T16:22:06.483301",
     "exception": false,
     "start_time": "2023-12-29T16:21:49.100749",
     "status": "completed"
    },
    "tags": []
   },
   "outputs": [
    {
     "name": "stdout",
     "output_type": "stream",
     "text": [
      "--2023-12-29 16:21:49--  https://cf-courses-data.s3.us.cloud-object-storage.appdomain.cloud/IBM-ML0232EN-SkillsNetwork/asset/baseball.db\r\n",
      "Resolving cf-courses-data.s3.us.cloud-object-storage.appdomain.cloud (cf-courses-data.s3.us.cloud-object-storage.appdomain.cloud)... 198.23.119.245\r\n",
      "Connecting to cf-courses-data.s3.us.cloud-object-storage.appdomain.cloud (cf-courses-data.s3.us.cloud-object-storage.appdomain.cloud)|198.23.119.245|:443... connected.\r\n",
      "HTTP request sent, awaiting response... 200 OK\r\n",
      "Length: 7626752 (7.3M) [binary/octet-stream]\r\n",
      "Saving to: 'data/baseball.db'\r\n",
      "\r\n",
      "baseball.db         100%[===================>]   7.27M   750KB/s    in 16s     \r\n",
      "\r\n",
      "2023-12-29 16:22:06 (465 KB/s) - 'data/baseball.db' saved [7626752/7626752]\r\n",
      "\r\n"
     ]
    }
   ],
   "source": [
    "!wget -P data https://cf-courses-data.s3.us.cloud-object-storage.appdomain.cloud/IBM-ML0232EN-SkillsNetwork/asset/baseball.db"
   ]
  },
  {
   "cell_type": "code",
   "execution_count": 3,
   "id": "e342a38d",
   "metadata": {
    "execution": {
     "iopub.execute_input": "2023-12-29T16:22:06.499023Z",
     "iopub.status.busy": "2023-12-29T16:22:06.497825Z",
     "iopub.status.idle": "2023-12-29T16:22:06.546864Z",
     "shell.execute_reply": "2023-12-29T16:22:06.544469Z"
    },
    "papermill": {
     "duration": 0.059378,
     "end_time": "2023-12-29T16:22:06.549277",
     "exception": false,
     "start_time": "2023-12-29T16:22:06.489899",
     "status": "completed"
    },
    "tags": []
   },
   "outputs": [
    {
     "name": "stdout",
     "output_type": "stream",
     "text": [
      "      index   playerID  yearID  gameNum        gameID teamID lgID   GP  \\\n",
      "0         0  gomezle01    1933        0  ALS193307060    NYA   AL  1.0   \n",
      "1         1  ferreri01    1933        0  ALS193307060    BOS   AL  1.0   \n",
      "2         2  gehrilo01    1933        0  ALS193307060    NYA   AL  1.0   \n",
      "3         3  gehrich01    1933        0  ALS193307060    DET   AL  1.0   \n",
      "4         4  dykesji01    1933        0  ALS193307060    CHA   AL  1.0   \n",
      "...     ...        ...     ...      ...           ...    ...  ...  ...   \n",
      "5143   5143  seageco01    2016        0  ALS201607120    LAN   NL  1.0   \n",
      "5144   5144  strasst01    2016        0  ALS201607120    WAS   NL  0.0   \n",
      "5145   5145  syndeno01    2016        0  ALS201607120    NYN   NL  0.0   \n",
      "5146   5146  teherju01    2016        0  ALS201607120    ATL   NL  1.0   \n",
      "5147   5147  zobribe01    2016        0  ALS201607120    CHN   NL  1.0   \n",
      "\n",
      "      startingPos  \n",
      "0             1.0  \n",
      "1             2.0  \n",
      "2             3.0  \n",
      "3             4.0  \n",
      "4             5.0  \n",
      "...           ...  \n",
      "5143          NaN  \n",
      "5144          NaN  \n",
      "5145          NaN  \n",
      "5146          NaN  \n",
      "5147          4.0  \n",
      "\n",
      "[5148 rows x 9 columns]\n"
     ]
    }
   ],
   "source": [
    "### BEGIN SOLUTION\n",
    "# Create a variable, `path`, containing the path to the `baseball.db` contained in `resources/`\n",
    "path = 'data/baseball.db'\n",
    "\n",
    "# Create a connection, `con`, that is connected to database at `path`\n",
    "con = sq3.Connection(path)\n",
    "\n",
    "# Create a variable, `query`, containing a SQL query which reads in all data from the `` table\n",
    "\n",
    "query = \"\"\"\n",
    "SELECT *\n",
    "    FROM allstarfull\n",
    "    ;\n",
    "\"\"\"\n",
    "\n",
    "allstar_observations = pd.read_sql(query, con)\n",
    "\n",
    "print(allstar_observations)\n",
    "\n"
   ]
  },
  {
   "cell_type": "code",
   "execution_count": 4,
   "id": "a6c0382d",
   "metadata": {
    "execution": {
     "iopub.execute_input": "2023-12-29T16:22:06.563917Z",
     "iopub.status.busy": "2023-12-29T16:22:06.563541Z",
     "iopub.status.idle": "2023-12-29T16:22:06.573304Z",
     "shell.execute_reply": "2023-12-29T16:22:06.571596Z"
    },
    "papermill": {
     "duration": 0.020206,
     "end_time": "2023-12-29T16:22:06.576166",
     "exception": false,
     "start_time": "2023-12-29T16:22:06.555960",
     "status": "completed"
    },
    "tags": []
   },
   "outputs": [
    {
     "name": "stdout",
     "output_type": "stream",
     "text": [
      "    type                  name     tbl_name  rootpage  \\\n",
      "0  table           allstarfull  allstarfull         2   \n",
      "1  index  ix_allstarfull_index  allstarfull         3   \n",
      "2  table               schools      schools        26   \n",
      "3  index      ix_schools_index      schools        31   \n",
      "4  table               batting      batting        99   \n",
      "5  index      ix_batting_index      batting       100   \n",
      "\n",
      "                                                 sql  \n",
      "0  CREATE TABLE \"allstarfull\" (\\n\"index\" INTEGER,...  \n",
      "1  CREATE INDEX \"ix_allstarfull_index\"ON \"allstar...  \n",
      "2  CREATE TABLE \"schools\" (\\n\"index\" INTEGER,\\n  ...  \n",
      "3  CREATE INDEX \"ix_schools_index\"ON \"schools\" (\"...  \n",
      "4  CREATE TABLE \"batting\" (\\n\"index\" INTEGER,\\n  ...  \n",
      "5  CREATE INDEX \"ix_batting_index\"ON \"batting\" (\"...  \n"
     ]
    }
   ],
   "source": [
    "# Create a variable, tables, which reads in all data from the table sqlite_master\n",
    "all_tables = pd.read_sql('SELECT * FROM sqlite_master', con)\n",
    "print(all_tables)\n"
   ]
  },
  {
   "cell_type": "code",
   "execution_count": 5,
   "id": "771248d2",
   "metadata": {
    "execution": {
     "iopub.execute_input": "2023-12-29T16:22:06.591276Z",
     "iopub.status.busy": "2023-12-29T16:22:06.590935Z",
     "iopub.status.idle": "2023-12-29T16:22:06.602361Z",
     "shell.execute_reply": "2023-12-29T16:22:06.601272Z"
    },
    "papermill": {
     "duration": 0.022055,
     "end_time": "2023-12-29T16:22:06.604946",
     "exception": false,
     "start_time": "2023-12-29T16:22:06.582891",
     "status": "completed"
    },
    "tags": []
   },
   "outputs": [
    {
     "name": "stdout",
     "output_type": "stream",
     "text": [
      "    playerID  num_games_played  avg_starting_position\n",
      "0  musiast01              24.0               6.357143\n",
      "1   mayswi01              24.0               8.000000\n",
      "2  aaronha01              24.0               8.470588\n"
     ]
    }
   ],
   "source": [
    "# Pretend that you were interesting in creating a new baseball hall of fame. Join and analyze the tables to evaluate the top 3 all time best baseball players\n",
    "best_query = \"\"\"\n",
    "SELECT playerID, sum(GP) AS num_games_played, AVG(startingPos) AS avg_starting_position\n",
    "    FROM allstarfull\n",
    "    GROUP BY playerID\n",
    "    ORDER BY num_games_played DESC, avg_starting_position ASC\n",
    "    LIMIT 3\n",
    "\"\"\"\n",
    "best = pd.read_sql(best_query, con)\n",
    "print(best.head())\n",
    "### END SOLUTION"
   ]
  }
 ],
 "metadata": {
  "kaggle": {
   "accelerator": "none",
   "dataSources": [],
   "dockerImageVersionId": 30626,
   "isGpuEnabled": false,
   "isInternetEnabled": true,
   "language": "python",
   "sourceType": "notebook"
  },
  "kernelspec": {
   "display_name": "Python 3",
   "language": "python",
   "name": "python3"
  },
  "language_info": {
   "codemirror_mode": {
    "name": "ipython",
    "version": 3
   },
   "file_extension": ".py",
   "mimetype": "text/x-python",
   "name": "python",
   "nbconvert_exporter": "python",
   "pygments_lexer": "ipython3",
   "version": "3.10.12"
  },
  "papermill": {
   "default_parameters": {},
   "duration": 21.004493,
   "end_time": "2023-12-29T16:22:07.134718",
   "environment_variables": {},
   "exception": null,
   "input_path": "__notebook__.ipynb",
   "output_path": "__notebook__.ipynb",
   "parameters": {},
   "start_time": "2023-12-29T16:21:46.130225",
   "version": "2.4.0"
  }
 },
 "nbformat": 4,
 "nbformat_minor": 5
}
